{
 "cells": [
  {
   "cell_type": "code",
   "execution_count": 1,
   "id": "aaee50ca-ba3b-453b-b130-4782142b375a",
   "metadata": {},
   "outputs": [],
   "source": [
    "import CyFeat as dabm\n",
    "import json\n",
    "import time\n",
    "import numpy as np"
   ]
  },
  {
   "cell_type": "code",
   "execution_count": 2,
   "id": "fd4a7f04-ce04-44aa-a209-37b50f2144ea",
   "metadata": {},
   "outputs": [],
   "source": [
    "barcodes = ['/home/cyrille/Desktop/git/scyGeno/whitelists/bc1_whitelist_num.json',\n",
    "            '/home/cyrille/Desktop/git/scyGeno/whitelists/bc2_whitelist_num.json',\n",
    "           '/home/cyrille/Desktop/git/scyGeno/whitelists/bc2_whitelist_num.json']\n",
    "bc_dicts = []\n",
    "for bc_json in barcodes:\n",
    "    with open(bc_json, 'r') as fin:\n",
    "        bc_dicts.append(json.load(fin))"
   ]
  },
  {
   "cell_type": "code",
   "execution_count": null,
   "id": "673ad7a7-f6de-40dd-a704-3e895338d383",
   "metadata": {},
   "outputs": [],
   "source": []
  },
  {
   "cell_type": "code",
   "execution_count": 3,
   "id": "c50f12fd-469e-4462-abb8-f2f567819411",
   "metadata": {},
   "outputs": [],
   "source": [
    "with open('/home/cyrille/Desktop/git/scyGeno/whitelists/TotalSeqA_Ab_to_num.json' , 'r') as f_dict_in:\n",
    "    feature_dic = json.load(f_dict_in)  "
   ]
  },
  {
   "cell_type": "code",
   "execution_count": 4,
   "id": "8ff5067b-39c6-4bfb-bae7-9e85b14083b1",
   "metadata": {},
   "outputs": [],
   "source": [
    "seq_pos_dict = {'bc'  : [(0,0,11), (0,12,20), (0,24,32)], # three barcodes\n",
    "                'umi' : [(0,47,57)],\n",
    "                'feature' : [(1,0,15)]}"
   ]
  },
  {
   "cell_type": "code",
   "execution_count": 5,
   "id": "7287b92c-e1b4-418f-b760-ef3886842907",
   "metadata": {},
   "outputs": [],
   "source": [
    "f2 = '/media/cyrille/Cyrille_Data/HDAB_work/HDAB_prepare/220106_Nova/TI1411/TI1411_t27_Ab_S67_R2_001.fastq.gz'\n",
    "f1 = '/media/cyrille/Cyrille_Data/HDAB_work/HDAB_prepare/220106_Nova/TI1411/TI1411_t27_Ab_S67_R1_001.fastq.gz'"
   ]
  },
  {
   "cell_type": "code",
   "execution_count": 6,
   "id": "c96c7432-47e5-44ff-a661-1c4efc223ed6",
   "metadata": {},
   "outputs": [
    {
     "name": "stdout",
     "output_type": "stream",
     "text": [
      "total reads processed: 101790\n",
      "100005 good barcodes discovered\n",
      "1785 reads failed  barcode error threshold \n",
      "4 reads failed  UMI with N \n",
      "98172 good feature sequences identified\n",
      "1828 feature sequences failed error threshold \n",
      "barcode extraction took: 1.0s\n",
      "\n"
     ]
    }
   ],
   "source": [
    "start_time = time.time()\n",
    "exp = dabm.features.assign_features(\n",
    "    file1=f1,\n",
    "    file2=f2, \n",
    "    bc_correction_dic=bc_dicts,\n",
    "    feature_seq_dic=feature_dic,\n",
    "    seq_positions=seq_pos_dict,\n",
    "    verbose=True, \n",
    "    down_sample=10**5\n",
    ")\n",
    "print('barcode extraction took: {}s\\n'.format(np.round(time.time() - start_time,0)))"
   ]
  },
  {
   "cell_type": "code",
   "execution_count": null,
   "id": "e334760e-263c-4f68-9257-88f88c634261",
   "metadata": {},
   "outputs": [],
   "source": []
  },
  {
   "cell_type": "code",
   "execution_count": 7,
   "id": "6b840249-ca54-424a-8cb6-ddd5d15bd79f",
   "metadata": {},
   "outputs": [],
   "source": [
    "exp.bc_len = 10\n",
    "exp.prepare_BUS()"
   ]
  },
  {
   "cell_type": "code",
   "execution_count": 8,
   "id": "8f03d737-bc44-4864-9f2a-a45bbb61fe49",
   "metadata": {},
   "outputs": [],
   "source": [
    "exp.bus.write('./test.bus', formatting='BUS')"
   ]
  },
  {
   "cell_type": "code",
   "execution_count": 9,
   "id": "7cd8b034-b22f-4ce7-a28a-6bb81ba0fc2a",
   "metadata": {},
   "outputs": [
    {
     "name": "stdout",
     "output_type": "stream",
     "text": [
      "#01 /media/cyrille/Cyrille_Data/HDAB_work/HDAB_prepare/220106_Nova/TI1411/TI1411_t27_Ab_S67_R1_001.fastq.gz \n",
      "#02 2023-11-15 21:44\n",
      "#03      101790 TOTAL_READS \n",
      "#04      100005 GOOD_BARCODES \n",
      "#05       98172 GOOD_FEATURES \n",
      "#06        1785 FAILED_BARCODE \n",
      "#07           4 FAILED_UMI_N \n",
      "#08        1828 FAILED_FEATURE \n",
      "#09\n",
      "\n"
     ]
    }
   ],
   "source": [
    "print(exp.bus.text)"
   ]
  },
  {
   "cell_type": "code",
   "execution_count": 10,
   "id": "b5faf792-f33f-4ab9-a7b1-a1ebccf66518",
   "metadata": {},
   "outputs": [],
   "source": [
    "exp.write_condensed_file('./test')"
   ]
  },
  {
   "cell_type": "code",
   "execution_count": null,
   "id": "fee8d13b-ff7c-41aa-a6d3-bb6b0f19e7a5",
   "metadata": {},
   "outputs": [],
   "source": []
  },
  {
   "cell_type": "code",
   "execution_count": 12,
   "id": "55e8efd9-7344-4c6f-ab54-8f32ca4fc4c1",
   "metadata": {},
   "outputs": [
    {
     "name": "stdout",
     "output_type": "stream",
     "text": [
      "Hamming merged a total of 155 umis out of 87485 total\n",
      "AnnData object with n_obs × n_vars = 41208 × 163\n",
      "    obs: 'raw_counts', 'umi_counts'\n",
      "    layers: 'raw_counts'\n"
     ]
    },
    {
     "name": "stderr",
     "output_type": "stream",
     "text": [
      "/home/cyrille/.local/lib/python3.10/site-packages/anndata/_core/anndata.py:121: ImplicitModificationWarning: Transforming to str index.\n",
      "  warnings.warn(\"Transforming to str index.\", ImplicitModificationWarning)\n",
      "/home/cyrille/.local/lib/python3.10/site-packages/anndata/_core/anndata.py:121: ImplicitModificationWarning: Transforming to str index.\n",
      "  warnings.warn(\"Transforming to str index.\", ImplicitModificationWarning)\n"
     ]
    }
   ],
   "source": [
    "adata = dabm.count_table_feature('./test')"
   ]
  },
  {
   "cell_type": "code",
   "execution_count": 26,
   "id": "dbbe2ce9-d74e-4319-9cea-4a810ad28764",
   "metadata": {},
   "outputs": [
    {
     "data": {
      "text/html": [
       "<div>\n",
       "<style scoped>\n",
       "    .dataframe tbody tr th:only-of-type {\n",
       "        vertical-align: middle;\n",
       "    }\n",
       "\n",
       "    .dataframe tbody tr th {\n",
       "        vertical-align: top;\n",
       "    }\n",
       "\n",
       "    .dataframe thead th {\n",
       "        text-align: right;\n",
       "    }\n",
       "</style>\n",
       "<table border=\"1\" class=\"dataframe\">\n",
       "  <thead>\n",
       "    <tr style=\"text-align: right;\">\n",
       "      <th></th>\n",
       "      <th>raw_counts</th>\n",
       "      <th>umi_counts</th>\n",
       "    </tr>\n",
       "  </thead>\n",
       "  <tbody>\n",
       "    <tr>\n",
       "      <th>10116</th>\n",
       "      <td>1</td>\n",
       "      <td>1</td>\n",
       "    </tr>\n",
       "    <tr>\n",
       "      <th>10129</th>\n",
       "      <td>5</td>\n",
       "      <td>5</td>\n",
       "    </tr>\n",
       "    <tr>\n",
       "      <th>10143</th>\n",
       "      <td>5</td>\n",
       "      <td>5</td>\n",
       "    </tr>\n",
       "    <tr>\n",
       "      <th>10152</th>\n",
       "      <td>1</td>\n",
       "      <td>1</td>\n",
       "    </tr>\n",
       "    <tr>\n",
       "      <th>10160</th>\n",
       "      <td>6</td>\n",
       "      <td>5</td>\n",
       "    </tr>\n",
       "    <tr>\n",
       "      <th>...</th>\n",
       "      <td>...</td>\n",
       "      <td>...</td>\n",
       "    </tr>\n",
       "    <tr>\n",
       "      <th>969662</th>\n",
       "      <td>1</td>\n",
       "      <td>1</td>\n",
       "    </tr>\n",
       "    <tr>\n",
       "      <th>969665</th>\n",
       "      <td>1</td>\n",
       "      <td>1</td>\n",
       "    </tr>\n",
       "    <tr>\n",
       "      <th>969668</th>\n",
       "      <td>1</td>\n",
       "      <td>1</td>\n",
       "    </tr>\n",
       "    <tr>\n",
       "      <th>969678</th>\n",
       "      <td>1</td>\n",
       "      <td>1</td>\n",
       "    </tr>\n",
       "    <tr>\n",
       "      <th>969685</th>\n",
       "      <td>9</td>\n",
       "      <td>7</td>\n",
       "    </tr>\n",
       "  </tbody>\n",
       "</table>\n",
       "<p>128493 rows × 2 columns</p>\n",
       "</div>"
      ],
      "text/plain": [
       "        raw_counts  umi_counts\n",
       "10116            1           1\n",
       "10129            5           5\n",
       "10143            5           5\n",
       "10152            1           1\n",
       "10160            6           5\n",
       "...            ...         ...\n",
       "969662           1           1\n",
       "969665           1           1\n",
       "969668           1           1\n",
       "969678           1           1\n",
       "969685           9           7\n",
       "\n",
       "[128493 rows x 2 columns]"
      ]
     },
     "execution_count": 26,
     "metadata": {},
     "output_type": "execute_result"
    }
   ],
   "source": [
    "adata.obs"
   ]
  },
  {
   "cell_type": "code",
   "execution_count": null,
   "id": "f57492bd-2783-4b9d-9b4a-65642c756414",
   "metadata": {},
   "outputs": [],
   "source": [
    "wbus = bus.BUSFIle()\n",
    "wbus.bcd = "
   ]
  },
  {
   "cell_type": "code",
   "execution_count": null,
   "id": "94134b68-a850-47a6-8f96-9a20bb03162e",
   "metadata": {},
   "outputs": [],
   "source": [
    "exp.bc_feat"
   ]
  },
  {
   "cell_type": "code",
   "execution_count": null,
   "id": "41462c0f-0bc0-4841-9e0d-96393f25aa39",
   "metadata": {},
   "outputs": [],
   "source": [
    "bc_dicts[0]"
   ]
  },
  {
   "cell_type": "code",
   "execution_count": null,
   "id": "275989e2-327a-4699-b1b8-80670d447d9b",
   "metadata": {},
   "outputs": [],
   "source": [
    "102600112 // 10**4"
   ]
  },
  {
   "cell_type": "code",
   "execution_count": null,
   "id": "a894e4c2-ba6c-4e46-9098-7a2e2eec69be",
   "metadata": {},
   "outputs": [],
   "source": []
  }
 ],
 "metadata": {
  "kernelspec": {
   "display_name": "Python 3 (ipykernel)",
   "language": "python",
   "name": "python3"
  },
  "language_info": {
   "codemirror_mode": {
    "name": "ipython",
    "version": 3
   },
   "file_extension": ".py",
   "mimetype": "text/x-python",
   "name": "python",
   "nbconvert_exporter": "python",
   "pygments_lexer": "ipython3",
   "version": "3.10.12"
  }
 },
 "nbformat": 4,
 "nbformat_minor": 5
}
